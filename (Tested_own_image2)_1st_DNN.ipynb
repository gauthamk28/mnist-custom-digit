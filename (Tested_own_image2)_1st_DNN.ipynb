{
 "cells": [
  {
   "cell_type": "markdown",
   "metadata": {},
   "source": [
    "## Raw Images\n",
    "\n",
    "<img src=\"2.jpg\" height=\"150\" width=\"150\">\n",
    "<img src=\"3.jpg\"height=\"150\" width=\"150\">\n",
    "<img src=\"4.jpg\"height=\"150\" width=\"150\">\n",
    "<img src=\"7.jpg\"height=\"150\" width=\"150\">\n"
   ]
  },
  {
   "cell_type": "markdown",
   "metadata": {},
   "source": [
    "## Cropped images(cropped and removed background using photoshop)\n",
    "\n",
    "<img src=\"croppedpng2.png\" height=\"150\" width=\"150\">\n",
    "<img src=\"croppedpng3.png\"height=\"150\" width=\"150\">\n",
    "<img src=\"croppedpng4.png\"height=\"150\" width=\"150\">\n",
    "<img src=\"croppedpng7.png\"height=\"150\" width=\"150\">"
   ]
  },
  {
   "cell_type": "markdown",
   "metadata": {},
   "source": [
    "## Converting these images to MNIST image format"
   ]
  },
  {
   "cell_type": "code",
   "execution_count": 4,
   "metadata": {},
   "outputs": [],
   "source": [
    "import cv2\n",
    "import numpy as np\n",
    "import math\n",
    "from scipy import ndimage\n",
    "\n",
    "x_test2 = np.zeros((4,784))\n",
    "\n",
    "correct_vals = np.zeros((4,10))\n",
    "\n",
    "def getBestShift(img):\n",
    "    cy,cx = ndimage.measurements.center_of_mass(img)\n",
    "\n",
    "    rows,cols = img.shape\n",
    "    shiftx = np.round(cols/2.0-cx).astype(int)\n",
    "    shifty = np.round(rows/2.0-cy).astype(int)\n",
    "\n",
    "    return shiftx,shifty\n",
    "\n",
    "def shift(img,sx,sy):\n",
    "    rows,cols = img.shape\n",
    "    M = np.float32([[1,0,sx],[0,1,sy]])\n",
    "    shifted = cv2.warpAffine(img,M,(cols,rows))\n",
    "    return shifted\n",
    "\n",
    "i = 0\n",
    "for no in [2,3,4,7]:\n",
    "    # read the image\n",
    "    gray = cv2.imread(\"croppedpng\"+str(no)+\".png\",0)\n",
    "\n",
    "    # rescale it\n",
    "    gray = cv2.resize(255-gray, (28, 28))\n",
    "    # better black and white version\n",
    "    (thresh, gray) = cv2.threshold(gray, 128, 255, cv2.THRESH_BINARY | cv2.THRESH_OTSU)\n",
    "\n",
    "    while np.sum(gray[0]) == 0:\n",
    "        gray = gray[1:]\n",
    "\n",
    "    while np.sum(gray[:,0]) == 0:\n",
    "        gray = np.delete(gray,0,1)\n",
    "\n",
    "    while np.sum(gray[-1]) == 0:\n",
    "        gray = gray[:-1]\n",
    "\n",
    "    while np.sum(gray[:,-1]) == 0:\n",
    "        gray = np.delete(gray,-1,1)\n",
    "\n",
    "    rows,cols = gray.shape\n",
    "\n",
    "    if rows > cols:\n",
    "        factor = 20.0/rows\n",
    "        rows = 20\n",
    "        cols = int(round(cols*factor))\n",
    "        # first cols than rows\n",
    "        gray = cv2.resize(gray, (cols,rows))\n",
    "    else:\n",
    "        factor = 20.0/cols\n",
    "        cols = 20\n",
    "        rows = int(round(rows*factor))\n",
    "        # first cols than rows\n",
    "        gray = cv2.resize(gray, (cols, rows))\n",
    "\n",
    "    colsPadding = (int(math.ceil((28-cols)/2.0)),int(math.floor((28-cols)/2.0)))\n",
    "    rowsPadding = (int(math.ceil((28-rows)/2.0)),int(math.floor((28-rows)/2.0)))\n",
    "    gray = np.lib.pad(gray,(rowsPadding,colsPadding),'constant')\n",
    "\n",
    "    shiftx,shifty = getBestShift(gray)\n",
    "    shifted = shift(gray,shiftx,shifty)\n",
    "    gray = shifted\n",
    "\n",
    "    # save the processed images\n",
    "    cv2.imwrite(\"resizedim\"+str(no)+\".png\", gray)\n",
    "    \"\"\"\n",
    "    all images in the training set have an range from 0-1\n",
    "    and not from 0-255 so we divide our flatten images\n",
    "    (a one dimensional vector with our 784 pixels)\n",
    "    to use the same 0-1 based range\n",
    "    \"\"\"\n",
    "    flatten = gray.flatten() / 255.0\n",
    "    \"\"\"\n",
    "    we need to store the flatten image and generate\n",
    "    the correct_vals array\n",
    "    correct_val for the first digit (9) would be\n",
    "    [0,0,0,0,0,0,0,0,0,1]\n",
    "    \"\"\"\n",
    "    x_test2[i] = flatten\n",
    "    correct_val = np.zeros((10))\n",
    "    correct_val[no] = 1\n",
    "    correct_vals[i] = correct_val\n",
    "    i += 1\n",
    "\n"
   ]
  },
  {
   "cell_type": "markdown",
   "metadata": {},
   "source": [
    "## MNIST format images\n",
    "\n",
    "<img src=\"resizedim2.png\">\n",
    "<img src=\"resizedim3.png\">\n",
    "<img src=\"resizedim4.png\">\n",
    "<img src=\"resizedim7.png\">"
   ]
  },
  {
   "cell_type": "code",
   "execution_count": 5,
   "metadata": {},
   "outputs": [
    {
     "data": {
      "text/plain": [
       "<matplotlib.image.AxesImage at 0x1c9b6b7b358>"
      ]
     },
     "execution_count": 5,
     "metadata": {},
     "output_type": "execute_result"
    },
    {
     "data": {
      "image/png": "[encoded data removed]",
      "text/plain": [
       "<matplotlib.figure.Figure at 0x1c9b6a516d8>"
      ]
     },
     "metadata": {},
     "output_type": "display_data"
    }
   ],
   "source": [
    "#visualising in graph\n",
    "import matplotlib.pyplot as plt\n",
    "%matplotlib inline\n",
    "plt.imshow(x_test2[0].reshape(28,28))"
   ]
  },
  {
   "cell_type": "code",
   "execution_count": 6,
   "metadata": {},
   "outputs": [],
   "source": [
    "y_test2=np.zeros(4)\n",
    "y_test2[0]=2\n",
    "y_test2[1]=3\n",
    "y_test2[2]=4\n",
    "y_test2[3]=7\n",
    "x_test2 = x_test2.reshape(x_test2.shape[0], 28, 28,1)"
   ]
  },
  {
   "cell_type": "markdown",
   "metadata": {
    "colab_type": "text",
    "id": "aNyZv-Ec52ot"
   },
   "source": [
    "# **Import Libraries and modules**"
   ]
  },
  {
   "cell_type": "code",
   "execution_count": 1,
   "metadata": {
    "colab": {
     "autoexec": {
      "startup": false,
      "wait_interval": 0
     },
     "base_uri": "https://localhost:8080/",
     "height": 36
    },
    "colab_type": "code",
    "executionInfo": {
     "elapsed": 10674,
     "status": "ok",
     "timestamp": 1525867446766,
     "user": {
      "displayName": "Gautham k",
      "photoUrl": "https://lh3.googleusercontent.com/a/default-user=s128",
      "userId": "114855088328492378985"
     },
     "user_tz": -330
    },
    "id": "3m3w1Cw49Zkt",
    "outputId": "5a5ffd62-1487-4b6a-b028-b0b7f0761fb8"
   },
   "outputs": [
    {
     "name": "stderr",
     "output_type": "stream",
     "text": [
      "Using TensorFlow backend.\n"
     ]
    }
   ],
   "source": [
    "# https://keras.io/\n",
    "!pip install -q keras\n",
    "import keras"
   ]
  },
  {
   "cell_type": "code",
   "execution_count": 0,
   "metadata": {
    "colab": {
     "autoexec": {
      "startup": false,
      "wait_interval": 0
     }
    },
    "colab_type": "code",
    "id": "Eso6UHE080D4"
   },
   "outputs": [],
   "source": [
    "from keras.models import Sequential\n",
    "from keras.layers import Dense, Dropout, Activation, Flatten, Add\n",
    "from keras.layers import Convolution2D, MaxPooling2D\n",
    "from keras.utils import np_utils\n",
    "\n",
    "from keras.datasets import mnist"
   ]
  },
  {
   "cell_type": "markdown",
   "metadata": {
    "colab_type": "text",
    "id": "zByEi95J86RD"
   },
   "source": [
    "### Load pre-shuffled MNIST data into train and test sets"
   ]
  },
  {
   "cell_type": "code",
   "execution_count": 3,
   "metadata": {
    "colab": {
     "autoexec": {
      "startup": false,
      "wait_interval": 0
     },
     "base_uri": "https://localhost:8080/",
     "height": 54
    },
    "colab_type": "code",
    "executionInfo": {
     "elapsed": 4810,
     "status": "ok",
     "timestamp": 1525867453352,
     "user": {
      "displayName": "Gautham k",
      "photoUrl": "https://lh3.googleusercontent.com/a/default-user=s128",
      "userId": "114855088328492378985"
     },
     "user_tz": -330
    },
    "id": "7eRM0QWN83PV",
    "outputId": "29f7dc0b-f1dd-4f97-e0a4-148f861e9217"
   },
   "outputs": [
    {
     "name": "stdout",
     "output_type": "stream",
     "text": [
      "Downloading data from https://s3.amazonaws.com/img-datasets/mnist.npz\n",
      "11493376/11490434 [==============================] - 3s 0us/step\n"
     ]
    }
   ],
   "source": [
    "(X_train, y_train), (X_test, y_test) = mnist.load_data()"
   ]
  },
  {
   "cell_type": "code",
   "execution_count": 4,
   "metadata": {
    "colab": {
     "autoexec": {
      "startup": false,
      "wait_interval": 0
     },
     "base_uri": "https://localhost:8080/",
     "height": 302
    },
    "colab_type": "code",
    "executionInfo": {
     "elapsed": 1058,
     "status": "ok",
     "timestamp": 1525867454464,
     "user": {
      "displayName": "Gautham k",
      "photoUrl": "https://lh3.googleusercontent.com/a/default-user=s128",
      "userId": "114855088328492378985"
     },
     "user_tz": -330
    },
    "id": "4a4Be72j8-ZC",
    "outputId": "5f1919bc-4a2a-4761-ba2b-84bfb1dd0ebf"
   },
   "outputs": [
    {
     "name": "stdout",
     "output_type": "stream",
     "text": [
      "(60000, 28, 28)\n"
     ]
    },
    {
     "data": {
      "text/plain": [
       "<matplotlib.image.AxesImage at 0x7f8311582c50>"
      ]
     },
     "execution_count": 4,
     "metadata": {
      "tags": []
     },
     "output_type": "execute_result"
    },
    {
     "data": {
      "image/png": "[encoded data removed]",
      "text/plain": [
       "<matplotlib.figure.Figure at 0x7f8311a15978>"
      ]
     },
     "metadata": {
      "tags": []
     },
     "output_type": "display_data"
    }
   ],
   "source": [
    "print (X_train.shape)\n",
    "from matplotlib import pyplot as plt\n",
    "%matplotlib inline\n",
    "plt.imshow(X_train[0])"
   ]
  },
  {
   "cell_type": "code",
   "execution_count": 0,
   "metadata": {
    "colab": {
     "autoexec": {
      "startup": false,
      "wait_interval": 0
     }
    },
    "colab_type": "code",
    "id": "dkmprriw9AnZ"
   },
   "outputs": [],
   "source": [
    "X_train = X_train.reshape(X_train.shape[0], 28, 28,1)\n",
    "X_test = X_test.reshape(X_test.shape[0], 28, 28,1)"
   ]
  },
  {
   "cell_type": "code",
   "execution_count": 0,
   "metadata": {
    "colab": {
     "autoexec": {
      "startup": false,
      "wait_interval": 0
     }
    },
    "colab_type": "code",
    "id": "X2m4YS4E9CRh"
   },
   "outputs": [],
   "source": [
    "X_train = X_train.astype('float32')\n",
    "X_test = X_test.astype('float32')\n",
    "X_train /= 255\n",
    "X_test /= 255"
   ]
  },
  {
   "cell_type": "code",
   "execution_count": 7,
   "metadata": {
    "colab": {
     "autoexec": {
      "startup": false,
      "wait_interval": 0
     },
     "base_uri": "https://localhost:8080/",
     "height": 36
    },
    "colab_type": "code",
    "executionInfo": {
     "elapsed": 1186,
     "status": "ok",
     "timestamp": 1525867457994,
     "user": {
      "displayName": "Gautham k",
      "photoUrl": "https://lh3.googleusercontent.com/a/default-user=s128",
      "userId": "114855088328492378985"
     },
     "user_tz": -330
    },
    "id": "0Mn0vAYD9DvB",
    "outputId": "592fa5f7-458c-4fde-a856-fb558fb2318e"
   },
   "outputs": [
    {
     "data": {
      "text/plain": [
       "array([5, 0, 4, 1, 9, 2, 1, 3, 1, 4], dtype=uint8)"
      ]
     },
     "execution_count": 7,
     "metadata": {
      "tags": []
     },
     "output_type": "execute_result"
    }
   ],
   "source": [
    "y_train[:10]"
   ]
  },
  {
   "cell_type": "code",
   "execution_count": 0,
   "metadata": {
    "colab": {
     "autoexec": {
      "startup": false,
      "wait_interval": 0
     }
    },
    "colab_type": "code",
    "id": "ZG8JiXR39FHC"
   },
   "outputs": [],
   "source": [
    "# Convert 1-dimensional class arrays to 10-dimensional class matrices\n",
    "Y_train = np_utils.to_categorical(y_train, 10)\n",
    "Y_test = np_utils.to_categorical(y_test, 10)"
   ]
  },
  {
   "cell_type": "code",
   "execution_count": 9,
   "metadata": {
    "colab": {
     "autoexec": {
      "startup": false,
      "wait_interval": 0
     },
     "base_uri": "https://localhost:8080/",
     "height": 203
    },
    "colab_type": "code",
    "executionInfo": {
     "elapsed": 902,
     "status": "ok",
     "timestamp": 1525867460630,
     "user": {
      "displayName": "Gautham k",
      "photoUrl": "https://lh3.googleusercontent.com/a/default-user=s128",
      "userId": "114855088328492378985"
     },
     "user_tz": -330
    },
    "id": "fYlFRvKS9HMB",
    "outputId": "bf9f776c-479c-4e54-b26d-8fa7dc0c82ea"
   },
   "outputs": [
    {
     "data": {
      "text/plain": [
       "array([[0., 0., 0., 0., 0., 1., 0., 0., 0., 0.],\n",
       "       [1., 0., 0., 0., 0., 0., 0., 0., 0., 0.],\n",
       "       [0., 0., 0., 0., 1., 0., 0., 0., 0., 0.],\n",
       "       [0., 1., 0., 0., 0., 0., 0., 0., 0., 0.],\n",
       "       [0., 0., 0., 0., 0., 0., 0., 0., 0., 1.],\n",
       "       [0., 0., 1., 0., 0., 0., 0., 0., 0., 0.],\n",
       "       [0., 1., 0., 0., 0., 0., 0., 0., 0., 0.],\n",
       "       [0., 0., 0., 1., 0., 0., 0., 0., 0., 0.],\n",
       "       [0., 1., 0., 0., 0., 0., 0., 0., 0., 0.],\n",
       "       [0., 0., 0., 0., 1., 0., 0., 0., 0., 0.]], dtype=float32)"
      ]
     },
     "execution_count": 9,
     "metadata": {
      "tags": []
     },
     "output_type": "execute_result"
    }
   ],
   "source": [
    "Y_train[:10]\n"
   ]
  },
  {
   "cell_type": "code",
   "execution_count": 10,
   "metadata": {
    "colab": {
     "autoexec": {
      "startup": false,
      "wait_interval": 0
     },
     "base_uri": "https://localhost:8080/",
     "height": 74
    },
    "colab_type": "code",
    "executionInfo": {
     "elapsed": 948,
     "status": "ok",
     "timestamp": 1525867461756,
     "user": {
      "displayName": "Gautham k",
      "photoUrl": "https://lh3.googleusercontent.com/a/default-user=s128",
      "userId": "114855088328492378985"
     },
     "user_tz": -330
    },
    "id": "osKqT73Q9JJB",
    "outputId": "4069625f-06f7-44bb-b7b9-50ed124d17e9"
   },
   "outputs": [
    {
     "name": "stderr",
     "output_type": "stream",
     "text": [
      "/usr/local/lib/python3.6/dist-packages/ipykernel_launcher.py:5: UserWarning: Update your `Conv2D` call to the Keras 2 API: `Conv2D(32, (3, 3), activation=\"relu\", input_shape=(28, 28, 1...)`\n",
      "  \"\"\"\n"
     ]
    }
   ],
   "source": [
    "from keras.layers import Activation\n",
    "model = Sequential()\n",
    "\n",
    " \n",
    "model.add(Convolution2D(32, 3, 3, activation='relu', input_shape=(28,28,1)))\n",
    "model.add(Convolution2D(10, 1, activation='relu'))\n",
    "model.add(Convolution2D(10, 26))\n",
    "model.add(Flatten())\n",
    "model.add(Activation('softmax'))"
   ]
  },
  {
   "cell_type": "code",
   "execution_count": 11,
   "metadata": {
    "colab": {
     "autoexec": {
      "startup": false,
      "wait_interval": 0
     },
     "base_uri": "https://localhost:8080/",
     "height": 333
    },
    "colab_type": "code",
    "executionInfo": {
     "elapsed": 1062,
     "status": "ok",
     "timestamp": 1525867463142,
     "user": {
      "displayName": "Gautham k",
      "photoUrl": "https://lh3.googleusercontent.com/a/default-user=s128",
      "userId": "114855088328492378985"
     },
     "user_tz": -330
    },
    "id": "TzdAYg1k9K7Z",
    "outputId": "1bf2fb26-c201-4c03-a2be-a61de4afb703"
   },
   "outputs": [
    {
     "name": "stdout",
     "output_type": "stream",
     "text": [
      "_________________________________________________________________\n",
      "Layer (type)                 Output Shape              Param #   \n",
      "=================================================================\n",
      "conv2d_1 (Conv2D)            (None, 26, 26, 32)        320       \n",
      "_________________________________________________________________\n",
      "conv2d_2 (Conv2D)            (None, 26, 26, 10)        330       \n",
      "_________________________________________________________________\n",
      "conv2d_3 (Conv2D)            (None, 1, 1, 10)          67610     \n",
      "_________________________________________________________________\n",
      "flatten_1 (Flatten)          (None, 10)                0         \n",
      "_________________________________________________________________\n",
      "activation_1 (Activation)    (None, 10)                0         \n",
      "=================================================================\n",
      "Total params: 68,260\n",
      "Trainable params: 68,260\n",
      "Non-trainable params: 0\n",
      "_________________________________________________________________\n"
     ]
    }
   ],
   "source": [
    "model.summary()"
   ]
  },
  {
   "cell_type": "code",
   "execution_count": 0,
   "metadata": {
    "colab": {
     "autoexec": {
      "startup": false,
      "wait_interval": 0
     }
    },
    "colab_type": "code",
    "id": "Zp6SuGrL9M3h"
   },
   "outputs": [],
   "source": [
    "model.compile(loss='categorical_crossentropy',\n",
    "             optimizer='adam',\n",
    "             metrics=['accuracy'])"
   ]
  },
  {
   "cell_type": "code",
   "execution_count": 13,
   "metadata": {
    "colab": {
     "autoexec": {
      "startup": false,
      "wait_interval": 0
     },
     "base_uri": "https://localhost:8080/",
     "height": 464
    },
    "colab_type": "code",
    "executionInfo": {
     "elapsed": 173952,
     "status": "ok",
     "timestamp": 1525867638264,
     "user": {
      "displayName": "Gautham k",
      "photoUrl": "https://lh3.googleusercontent.com/a/default-user=s128",
      "userId": "114855088328492378985"
     },
     "user_tz": -330
    },
    "id": "4xWoKhPY9Of5",
    "outputId": "03c1265c-bd45-42d4-d63e-18a2f8afc18f"
   },
   "outputs": [
    {
     "name": "stderr",
     "output_type": "stream",
     "text": [
      "/usr/local/lib/python3.6/dist-packages/keras/models.py:981: UserWarning: The `nb_epoch` argument in `fit` has been renamed `epochs`.\n",
      "  warnings.warn('The `nb_epoch` argument in `fit` '\n"
     ]
    },
    {
     "name": "stdout",
     "output_type": "stream",
     "text": [
      "Epoch 1/10\n",
      "60000/60000 [==============================] - 19s 317us/step - loss: 0.2013 - acc: 0.9435\n",
      "Epoch 2/10\n",
      "60000/60000 [==============================] - 17s 287us/step - loss: 0.0765 - acc: 0.9772\n",
      "Epoch 3/10\n",
      " 4032/60000 [=>............................] - ETA: 16s - loss: 0.0471 - acc: 0.985660000/60000 [==============================] - 17s 287us/step - loss: 0.0569 - acc: 0.9825\n",
      "Epoch 4/10\n",
      "60000/60000 [==============================] - 17s 283us/step - loss: 0.0471 - acc: 0.9851\n",
      "Epoch 5/10\n",
      "10624/60000 [====>.........................] - ETA: 13s - loss: 0.0326 - acc: 0.989660000/60000 [==============================] - 17s 284us/step - loss: 0.0372 - acc: 0.9881\n",
      "Epoch 6/10\n",
      "60000/60000 [==============================] - 17s 285us/step - loss: 0.0317 - acc: 0.9902\n",
      "Epoch 7/10\n",
      "12032/60000 [=====>........................] - ETA: 13s - loss: 0.0214 - acc: 0.992860000/60000 [==============================] - 17s 286us/step - loss: 0.0250 - acc: 0.9921\n",
      "Epoch 8/10\n",
      "60000/60000 [==============================] - 17s 286us/step - loss: 0.0220 - acc: 0.9927\n",
      "Epoch 9/10\n",
      "12416/60000 [=====>........................] - ETA: 13s - loss: 0.0123 - acc: 0.995760000/60000 [==============================] - 17s 285us/step - loss: 0.0166 - acc: 0.9944\n",
      "Epoch 10/10\n",
      "60000/60000 [==============================] - 17s 284us/step - loss: 0.0146 - acc: 0.9952\n"
     ]
    },
    {
     "data": {
      "text/plain": [
       "<keras.callbacks.History at 0x7f830f479390>"
      ]
     },
     "execution_count": 13,
     "metadata": {
      "tags": []
     },
     "output_type": "execute_result"
    }
   ],
   "source": [
    "model.fit(X_train, Y_train, batch_size=32, nb_epoch=10, verbose=1)"
   ]
  },
  {
   "cell_type": "code",
   "execution_count": 0,
   "metadata": {
    "colab": {
     "autoexec": {
      "startup": false,
      "wait_interval": 0
     }
    },
    "colab_type": "code",
    "id": "AtsH-lLk-eLb"
   },
   "outputs": [],
   "source": [
    "score = model.evaluate(X_test, Y_test, verbose=0)"
   ]
  },
  {
   "cell_type": "code",
   "execution_count": 0,
   "metadata": {
    "colab": {
     "autoexec": {
      "startup": false,
      "wait_interval": 0
     },
     "base_uri": "https://localhost:8080/",
     "height": 34
    },
    "colab_type": "code",
    "executionInfo": {
     "elapsed": 721,
     "status": "ok",
     "timestamp": 1521865228497,
     "user": {
      "displayName": "Rohan Shravan",
      "photoUrl": "https://lh3.googleusercontent.com/a/default-user=s128",
      "userId": "116259693572096743881"
     },
     "user_tz": -330
    },
    "id": "mkX8JMv79q9r",
    "outputId": "39da9c7f-7727-4e75-90f1-69a8872eb288"
   },
   "outputs": [
    {
     "name": "stdout",
     "output_type": "stream",
     "text": [
      "[0.07641638516254279, 0.9829]\n"
     ]
    }
   ],
   "source": [
    "print(score)"
   ]
  },
  {
   "cell_type": "code",
   "execution_count": 0,
   "metadata": {
    "colab": {
     "autoexec": {
      "startup": false,
      "wait_interval": 0
     }
    },
    "colab_type": "code",
    "id": "OCWoJkwE9suh"
   },
   "outputs": [],
   "source": [
    "y_pred = model.predict(x_test2)"
   ]
  },
  {
   "cell_type": "code",
   "execution_count": 19,
   "metadata": {
    "colab": {
     "autoexec": {
      "startup": false,
      "wait_interval": 0
     },
     "base_uri": "https://localhost:8080/",
     "height": 184
    },
    "colab_type": "code",
    "executionInfo": {
     "elapsed": 918,
     "status": "ok",
     "timestamp": 1525867707172,
     "user": {
      "displayName": "Gautham k",
      "photoUrl": "https://lh3.googleusercontent.com/a/default-user=s128",
      "userId": "114855088328492378985"
     },
     "user_tz": -330
    },
    "id": "Ym7iCFBm9uBs",
    "outputId": "af08b823-dd9c-43b3-8262-f74f4ae647ca"
   },
   "outputs": [
    {
     "name": "stdout",
     "output_type": "stream",
     "text": [
      "[[6.8295418e-13 4.8304167e-07 9.9999952e-01 2.2868467e-09 9.5551659e-14\n",
      "  1.5299775e-10 4.1934580e-09 3.9205934e-11 3.2437495e-09 1.3497690e-12]\n",
      " [3.9034958e-17 8.5491419e-17 8.7967117e-10 9.9999988e-01 2.9656702e-18\n",
      "  8.6067303e-10 2.5835021e-23 9.1515645e-10 4.4689347e-08 6.0253541e-08]\n",
      " [2.6899934e-07 1.1010365e-09 2.8022841e-02 5.0211810e-07 9.6836692e-01\n",
      "  2.6463198e-07 3.5336444e-03 6.5161796e-05 3.2767825e-06 7.2066164e-06]\n",
      " [2.1878043e-14 5.2633641e-15 1.9505677e-13 3.4482049e-08 3.1717202e-11\n",
      "  2.7704599e-13 2.1124791e-18 1.0000000e+00 1.0976853e-09 3.2264719e-10]]\n",
      "[2. 3. 4. 7.]\n"
     ]
    }
   ],
   "source": [
    "print(y_pred)\n",
    "print(y_test2)"
   ]
  },
  {
   "cell_type": "markdown",
   "metadata": {},
   "source": [
    "<img src=\"highlighted results.jpg\" height=200 width=650>"
   ]
  },
  {
   "cell_type": "markdown",
   "metadata": {},
   "source": [
    "### Reference : http://opensourc.es/blog/tensorflow-mnist"
   ]
  }
 ],
 "metadata": {
  "accelerator": "GPU",
  "colab": {
   "collapsed_sections": [],
   "default_view": {},
   "name": "(Tested own image2) 1st DNN.ipynb",
   "provenance": [
    {
     "file_id": "1gZYwZdkgXBJRr624SqWJ9f452BmKNkNT",
     "timestamp": 1525709100494
    },
    {
     "file_id": "1JURGwe4e5Z7928Zv2eiJVPCQNc702huM",
     "timestamp": 1521864568638
    }
   ],
   "version": "0.3.2",
   "views": {}
  },
  "kernelspec": {
   "display_name": "Python 3",
   "language": "python",
   "name": "python3"
  },
  "language_info": {
   "codemirror_mode": {
    "name": "ipython",
    "version": 3
   },
   "file_extension": ".py",
   "mimetype": "text/x-python",
   "name": "python",
   "nbconvert_exporter": "python",
   "pygments_lexer": "ipython3",
   "version": "3.6.3"
  }
 },
 "nbformat": 4,
 "nbformat_minor": 1
}
